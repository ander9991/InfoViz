{
 "cells": [
  {
   "cell_type": "code",
   "execution_count": null,
   "metadata": {},
   "outputs": [
    {
     "name": "stderr",
     "output_type": "stream",
     "text": [
      "/var/folders/f7/j2r3g_s95sb03lcsq3j145m40000gn/T/ipykernel_25323/2244054021.py:3: DtypeWarning: Columns (3,8,16) have mixed types. Specify dtype option on import or set low_memory=False.\n",
      "  data = pd.read_csv(\"KaggleMatches.csv\")\n"
     ]
    }
   ],
   "source": [
    "import pandas as pd\n",
    "\n",
    "data = pd.read_csv(\"KaggleMatches.csv\")\n",
    "\n",
    "def cleanup_winnerseed(data):\n",
    "    data[\"winner_seed\"] = data[\"winner_seed\"].astype(str)\n",
    "    data[\"winner_seed\"] = data[\"winner_seed\"].str.replace(\"nan\", \"-1\")\n",
    "    data[\"winner_seed\"] = data[\"winner_seed\"].str.replace(\".0\", \"\")\n",
    "    data[\"winner_seed\"] = data[\"winner_seed\"].str.replace(\" \", \"-1\")\n",
    "    data[\"winner_seed\"] = data[\"winner_seed\"].str.replace(\"11]\", \"11\")\n",
    "    data[\"winner_seed\"] = data[\"winner_seed\"].str.replace(\"F\", \"\")\n",
    "    data[\"winner_seed\"] = data[\"winner_seed\"].str.replace(\"Q\", \"\")\n",
    "    data[\"winner_seed\"] = data[\"winner_seed\"].str.replace(\"WC\", \"\")\n",
    "    data[\"winner_seed\"] = data[\"winner_seed\"].replace('', 0).astype(int)\n",
    "    data[\"winner_seed\"] = data[\"winner_seed\"].astype(int)\n",
    "\n",
    "    return data \n",
    "\n",
    "data = cleanup_winnerseed(data)\n",
    "data.head()\n",
    "#data.to_csv(\"Test.csv\", index=False)"
   ]
  },
  {
   "cell_type": "code",
   "execution_count": null,
   "metadata": {},
   "outputs": [],
   "source": []
  }
 ],
 "metadata": {
  "kernelspec": {
   "display_name": "venv",
   "language": "python",
   "name": "python3"
  },
  "language_info": {
   "codemirror_mode": {
    "name": "ipython",
    "version": 3
   },
   "file_extension": ".py",
   "mimetype": "text/x-python",
   "name": "python",
   "nbconvert_exporter": "python",
   "pygments_lexer": "ipython3",
   "version": "3.13.0"
  }
 },
 "nbformat": 4,
 "nbformat_minor": 2
}
